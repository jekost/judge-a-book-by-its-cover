{
 "cells": [
  {
   "cell_type": "code",
   "execution_count": 33,
   "id": "46984f75",
   "metadata": {},
   "outputs": [],
   "source": [
    "from IPython.display import display, Image\n",
    "import cv2 as cv\n",
    "from PIL import Image\n",
    "\n",
    "#august\n",
    "import os\n",
    "import pandas as pd\n",
    "from numpy import asarray"
   ]
  },
  {
   "cell_type": "code",
   "execution_count": 6,
   "id": "b156ebf1",
   "metadata": {},
   "outputs": [],
   "source": [
    "#display(Image(filename='brad.jpg'))\n",
    "#display(Image(filename='kim.jpg'))\n",
    "face_cascade = cv.CascadeClassifier(\"haarcascade_frontalface_default.xml\")\n",
    "eye_cascade = cv.CascadeClassifier(\"haarcascade_eye.xml\")"
   ]
  },
  {
   "cell_type": "code",
   "execution_count": 58,
   "id": "27c7241e",
   "metadata": {},
   "outputs": [],
   "source": [
    "def coords_for_crop(img_address):\n",
    "\n",
    "    img = cv.imread(img_address)\n",
    "    im = Image.open(img_address) \n",
    "\n",
    "    gray = cv.cvtColor(img, cv.COLOR_BGR2GRAY)\n",
    "    faces = face_cascade.detectMultiScale(gray)\n",
    "\n",
    "    xUpper, yUpper, xLower, yLower = 0,0,0,0\n",
    "    \n",
    "    \n",
    "\n",
    "    for (x, y, w, h) in faces:\n",
    "        #print(w,h,type(w),type(h))\n",
    "        if (w>600 and h> 600):\n",
    "            return x,y,x+w,y+h\n",
    "        \n",
    "        \n",
    "        #cv.rectangle(img, (x, y), (x+w, y+h), (0, 0, 255), 2)\n",
    "        #roi_gray = gray[y : y + h, x : x + h]\n",
    "        #roi_color = img[y : y + h, x : x + h]\n",
    "        # Otsi silmi vaid leitud nägude aladelt (kollased ristkülikud)\n",
    "        #eyes = eye_cascade.detectMultiScale(roi_gray)\n",
    "        #for (ex, ey, ew, eh) in eyes:\n",
    "            #cv.rectangle(roi_color, (ex, ey), (ex+ew, ey+eh), (0, 255, 255), 2)\n",
    "\n",
    "\n",
    "    # Otsi silmi kogu fotolt (rohelised ristkülikud)\n",
    "    #eyes = eye_cascade.detectMultiScale(gray)\n",
    "    #for (ex, ey, ew, eh) in eyes:\n",
    "        #cv.rectangle(img, (ex, ey), (ex+ew, ey+eh), (0, 255, 0), 2)\n",
    "\n",
    "    #im1 = im.crop((xUpper, yUpper, xLower, yLower))\n",
    "    #im1.show()\n",
    "    #cv.waitKey(0)\n",
    "    #cv.destroyAllWindows()"
   ]
  },
  {
   "cell_type": "code",
   "execution_count": 27,
   "id": "999f0281",
   "metadata": {},
   "outputs": [],
   "source": [
    "# Pildi salvestamiseks\n",
    "#cv.imwrite('jott_koopia.png', img)"
   ]
  },
  {
   "cell_type": "code",
   "execution_count": null,
   "id": "77570e51",
   "metadata": {},
   "outputs": [],
   "source": []
  },
  {
   "cell_type": "code",
   "execution_count": null,
   "id": "f0ce3379",
   "metadata": {},
   "outputs": [],
   "source": []
  },
  {
   "cell_type": "code",
   "execution_count": 63,
   "id": "b7718eb8",
   "metadata": {},
   "outputs": [
    {
     "ename": "KeyboardInterrupt",
     "evalue": "",
     "output_type": "error",
     "traceback": [
      "\u001b[1;31m---------------------------------------------------------------------------\u001b[0m",
      "\u001b[1;31mKeyboardInterrupt\u001b[0m                         Traceback (most recent call last)",
      "Cell \u001b[1;32mIn[63], line 39\u001b[0m\n\u001b[0;32m     36\u001b[0m img \u001b[38;5;241m=\u001b[39m img\u001b[38;5;241m.\u001b[39mresize((\u001b[38;5;241m600\u001b[39m,\u001b[38;5;241m600\u001b[39m))\n\u001b[0;32m     38\u001b[0m \u001b[38;5;66;03m##\u001b[39;00m\n\u001b[1;32m---> 39\u001b[0m \u001b[43mimg\u001b[49m\u001b[38;5;241;43m.\u001b[39;49m\u001b[43mshow\u001b[49m\u001b[43m(\u001b[49m\u001b[43m)\u001b[49m\n\u001b[0;32m     40\u001b[0m \u001b[38;5;66;03m##\u001b[39;00m\n\u001b[0;32m     41\u001b[0m \n\u001b[0;32m     42\u001b[0m \u001b[38;5;66;03m# asarray() class is used to convert\u001b[39;00m\n\u001b[0;32m     43\u001b[0m \u001b[38;5;66;03m# PIL images into NumPy arrays\u001b[39;00m\n\u001b[0;32m     44\u001b[0m image_array \u001b[38;5;241m=\u001b[39m asarray(img)\n",
      "File \u001b[1;32m~\\AppData\\Local\\anaconda3\\Lib\\site-packages\\PIL\\Image.py:2467\u001b[0m, in \u001b[0;36mImage.show\u001b[1;34m(self, title)\u001b[0m\n\u001b[0;32m   2447\u001b[0m \u001b[38;5;28;01mdef\u001b[39;00m \u001b[38;5;21mshow\u001b[39m(\u001b[38;5;28mself\u001b[39m, title\u001b[38;5;241m=\u001b[39m\u001b[38;5;28;01mNone\u001b[39;00m):\n\u001b[0;32m   2448\u001b[0m \u001b[38;5;250m    \u001b[39m\u001b[38;5;124;03m\"\"\"\u001b[39;00m\n\u001b[0;32m   2449\u001b[0m \u001b[38;5;124;03m    Displays this image. This method is mainly intended for debugging purposes.\u001b[39;00m\n\u001b[0;32m   2450\u001b[0m \n\u001b[1;32m   (...)\u001b[0m\n\u001b[0;32m   2464\u001b[0m \u001b[38;5;124;03m    :param title: Optional title to use for the image window, where possible.\u001b[39;00m\n\u001b[0;32m   2465\u001b[0m \u001b[38;5;124;03m    \"\"\"\u001b[39;00m\n\u001b[1;32m-> 2467\u001b[0m     \u001b[43m_show\u001b[49m\u001b[43m(\u001b[49m\u001b[38;5;28;43mself\u001b[39;49m\u001b[43m,\u001b[49m\u001b[43m \u001b[49m\u001b[43mtitle\u001b[49m\u001b[38;5;241;43m=\u001b[39;49m\u001b[43mtitle\u001b[49m\u001b[43m)\u001b[49m\n",
      "File \u001b[1;32m~\\AppData\\Local\\anaconda3\\Lib\\site-packages\\PIL\\Image.py:3506\u001b[0m, in \u001b[0;36m_show\u001b[1;34m(image, **options)\u001b[0m\n\u001b[0;32m   3503\u001b[0m \u001b[38;5;28;01mdef\u001b[39;00m \u001b[38;5;21m_show\u001b[39m(image, \u001b[38;5;241m*\u001b[39m\u001b[38;5;241m*\u001b[39moptions):\n\u001b[0;32m   3504\u001b[0m     \u001b[38;5;28;01mfrom\u001b[39;00m \u001b[38;5;21;01m.\u001b[39;00m \u001b[38;5;28;01mimport\u001b[39;00m ImageShow\n\u001b[1;32m-> 3506\u001b[0m     \u001b[43mImageShow\u001b[49m\u001b[38;5;241;43m.\u001b[39;49m\u001b[43mshow\u001b[49m\u001b[43m(\u001b[49m\u001b[43mimage\u001b[49m\u001b[43m,\u001b[49m\u001b[43m \u001b[49m\u001b[38;5;241;43m*\u001b[39;49m\u001b[38;5;241;43m*\u001b[39;49m\u001b[43moptions\u001b[49m\u001b[43m)\u001b[49m\n",
      "File \u001b[1;32m~\\AppData\\Local\\anaconda3\\Lib\\site-packages\\PIL\\ImageShow.py:60\u001b[0m, in \u001b[0;36mshow\u001b[1;34m(image, title, **options)\u001b[0m\n\u001b[0;32m     51\u001b[0m \u001b[38;5;250m\u001b[39m\u001b[38;5;124mr\u001b[39m\u001b[38;5;124;03m\"\"\"\u001b[39;00m\n\u001b[0;32m     52\u001b[0m \u001b[38;5;124;03mDisplay a given image.\u001b[39;00m\n\u001b[0;32m     53\u001b[0m \n\u001b[1;32m   (...)\u001b[0m\n\u001b[0;32m     57\u001b[0m \u001b[38;5;124;03m:returns: ``True`` if a suitable viewer was found, ``False`` otherwise.\u001b[39;00m\n\u001b[0;32m     58\u001b[0m \u001b[38;5;124;03m\"\"\"\u001b[39;00m\n\u001b[0;32m     59\u001b[0m \u001b[38;5;28;01mfor\u001b[39;00m viewer \u001b[38;5;129;01min\u001b[39;00m _viewers:\n\u001b[1;32m---> 60\u001b[0m     \u001b[38;5;28;01mif\u001b[39;00m \u001b[43mviewer\u001b[49m\u001b[38;5;241;43m.\u001b[39;49m\u001b[43mshow\u001b[49m\u001b[43m(\u001b[49m\u001b[43mimage\u001b[49m\u001b[43m,\u001b[49m\u001b[43m \u001b[49m\u001b[43mtitle\u001b[49m\u001b[38;5;241;43m=\u001b[39;49m\u001b[43mtitle\u001b[49m\u001b[43m,\u001b[49m\u001b[43m \u001b[49m\u001b[38;5;241;43m*\u001b[39;49m\u001b[38;5;241;43m*\u001b[39;49m\u001b[43moptions\u001b[49m\u001b[43m)\u001b[49m:\n\u001b[0;32m     61\u001b[0m         \u001b[38;5;28;01mreturn\u001b[39;00m \u001b[38;5;28;01mTrue\u001b[39;00m\n\u001b[0;32m     62\u001b[0m \u001b[38;5;28;01mreturn\u001b[39;00m \u001b[38;5;28;01mFalse\u001b[39;00m\n",
      "File \u001b[1;32m~\\AppData\\Local\\anaconda3\\Lib\\site-packages\\PIL\\ImageShow.py:84\u001b[0m, in \u001b[0;36mViewer.show\u001b[1;34m(self, image, **options)\u001b[0m\n\u001b[0;32m     81\u001b[0m     \u001b[38;5;28;01mif\u001b[39;00m image\u001b[38;5;241m.\u001b[39mmode \u001b[38;5;241m!=\u001b[39m base:\n\u001b[0;32m     82\u001b[0m         image \u001b[38;5;241m=\u001b[39m image\u001b[38;5;241m.\u001b[39mconvert(base)\n\u001b[1;32m---> 84\u001b[0m \u001b[38;5;28;01mreturn\u001b[39;00m \u001b[38;5;28;43mself\u001b[39;49m\u001b[38;5;241;43m.\u001b[39;49m\u001b[43mshow_image\u001b[49m\u001b[43m(\u001b[49m\u001b[43mimage\u001b[49m\u001b[43m,\u001b[49m\u001b[43m \u001b[49m\u001b[38;5;241;43m*\u001b[39;49m\u001b[38;5;241;43m*\u001b[39;49m\u001b[43moptions\u001b[49m\u001b[43m)\u001b[49m\n",
      "File \u001b[1;32m~\\AppData\\Local\\anaconda3\\Lib\\site-packages\\PIL\\ImageShow.py:110\u001b[0m, in \u001b[0;36mViewer.show_image\u001b[1;34m(self, image, **options)\u001b[0m\n\u001b[0;32m    108\u001b[0m \u001b[38;5;28;01mdef\u001b[39;00m \u001b[38;5;21mshow_image\u001b[39m(\u001b[38;5;28mself\u001b[39m, image, \u001b[38;5;241m*\u001b[39m\u001b[38;5;241m*\u001b[39moptions):\n\u001b[0;32m    109\u001b[0m \u001b[38;5;250m    \u001b[39m\u001b[38;5;124;03m\"\"\"Display the given image.\"\"\"\u001b[39;00m\n\u001b[1;32m--> 110\u001b[0m     \u001b[38;5;28;01mreturn\u001b[39;00m \u001b[38;5;28;43mself\u001b[39;49m\u001b[38;5;241;43m.\u001b[39;49m\u001b[43mshow_file\u001b[49m\u001b[43m(\u001b[49m\u001b[38;5;28;43mself\u001b[39;49m\u001b[38;5;241;43m.\u001b[39;49m\u001b[43msave_image\u001b[49m\u001b[43m(\u001b[49m\u001b[43mimage\u001b[49m\u001b[43m)\u001b[49m\u001b[43m,\u001b[49m\u001b[43m \u001b[49m\u001b[38;5;241;43m*\u001b[39;49m\u001b[38;5;241;43m*\u001b[39;49m\u001b[43moptions\u001b[49m\u001b[43m)\u001b[49m\n",
      "File \u001b[1;32m~\\AppData\\Local\\anaconda3\\Lib\\site-packages\\PIL\\ImageShow.py:116\u001b[0m, in \u001b[0;36mViewer.show_file\u001b[1;34m(self, path, **options)\u001b[0m\n\u001b[0;32m    112\u001b[0m \u001b[38;5;28;01mdef\u001b[39;00m \u001b[38;5;21mshow_file\u001b[39m(\u001b[38;5;28mself\u001b[39m, path, \u001b[38;5;241m*\u001b[39m\u001b[38;5;241m*\u001b[39moptions):\n\u001b[0;32m    113\u001b[0m \u001b[38;5;250m    \u001b[39m\u001b[38;5;124;03m\"\"\"\u001b[39;00m\n\u001b[0;32m    114\u001b[0m \u001b[38;5;124;03m    Display given file.\u001b[39;00m\n\u001b[0;32m    115\u001b[0m \u001b[38;5;124;03m    \"\"\"\u001b[39;00m\n\u001b[1;32m--> 116\u001b[0m     os\u001b[38;5;241m.\u001b[39msystem(\u001b[38;5;28mself\u001b[39m\u001b[38;5;241m.\u001b[39mget_command(path, \u001b[38;5;241m*\u001b[39m\u001b[38;5;241m*\u001b[39moptions))  \u001b[38;5;66;03m# nosec\u001b[39;00m\n\u001b[0;32m    117\u001b[0m     \u001b[38;5;28;01mreturn\u001b[39;00m \u001b[38;5;241m1\u001b[39m\n",
      "\u001b[1;31mKeyboardInterrupt\u001b[0m: "
     ]
    }
   ],
   "source": [
    "import os\n",
    "import pandas as pd\n",
    "from PIL import Image\n",
    "from numpy import asarray\n",
    "\n",
    "# Defineerime CSV faili tee ja piltide peamise kausta tee\n",
    "csv_file_path = './ratings.csv'\n",
    "images_folder_path = './people'\n",
    "\n",
    "# Laadime CSV faili\n",
    "df = pd.read_csv(csv_file_path, header=None)\n",
    "\n",
    "# Loome tühja DataFrame, kuhu salvestame ümberstruktureeritud andmed\n",
    "columns = ['usaldusväärsus', 'ilu', 'intelligents', \"pilt\"]\n",
    "andmestik_df = pd.DataFrame(columns=columns)\n",
    "\n",
    "# Itereerime läbi CSV andmete ja lisame need ümberstruktureeritult uude DataFrame'i\n",
    "for index, row in df.iterrows():\n",
    "    # Määrame kausta nime vastavalt rea indeksile\n",
    "    folder_name = f'id{index + 1}'\n",
    "    folder_path = os.path.join(images_folder_path, folder_name)\n",
    "    \n",
    "    # Lisame andmed vastavalt kaustas olevatele piltidele\n",
    "    for i in range(0, len(row)-3, 3):\n",
    "        image_name = f'Allalaaditud fail ({i//3 + 1}).jpeg'  # Oletame, et pildid on nimedega img1.jpg, img2.jpg, img3.jpg\n",
    "        image_path = os.path.join(folder_path, image_name)\n",
    "        \n",
    "        # load the image and convert into\n",
    "        # numpy array\n",
    "        img = Image.open(image_path)\n",
    "        \n",
    "        #crop image so it will only contain the face of the person\n",
    "        img = img.crop(coords_for_crop(image_path))\n",
    "        \n",
    "        #resize image to 600x600 \n",
    "        img = img.resize((600,600))\n",
    "        \n",
    "        ##\n",
    "        #img.show()\n",
    "        ##\n",
    "        \n",
    "        # asarray() class is used to convert\n",
    "        # PIL images into NumPy arrays\n",
    "        image_array = asarray(img)\n",
    "        \n",
    "        \n",
    "        image_data = pd.DataFrame({\n",
    "            'usaldusväärsus': [row[i]],\n",
    "            'ilu': [row[i+1]],\n",
    "            'intelligents': [row[i+2]],\n",
    "            'pilt': [image_array]  \n",
    "        })\n",
    "        andmestik_df = pd.concat([andmestik_df,image_data], ignore_index=True)\n",
    "\n",
    "\n",
    "# Kui soovite tulemused salvestada uude CSV faili\n",
    "andmestik_df.to_csv('reshaped_file.csv', index=True)\n",
    "# Vaatame ümberstruktureeritud andmeid\n",
    "print(andmestik_df.info())"
   ]
  },
  {
   "cell_type": "code",
   "execution_count": null,
   "id": "5dbaa937",
   "metadata": {},
   "outputs": [],
   "source": []
  },
  {
   "cell_type": "code",
   "execution_count": null,
   "id": "93812f00",
   "metadata": {},
   "outputs": [],
   "source": []
  },
  {
   "cell_type": "code",
   "execution_count": null,
   "id": "5a0a9bfc",
   "metadata": {},
   "outputs": [],
   "source": []
  },
  {
   "cell_type": "code",
   "execution_count": null,
   "id": "9f14c7d7",
   "metadata": {},
   "outputs": [],
   "source": []
  },
  {
   "cell_type": "code",
   "execution_count": null,
   "id": "0ff89c3c",
   "metadata": {},
   "outputs": [],
   "source": []
  },
  {
   "cell_type": "code",
   "execution_count": null,
   "id": "e6dfe00e",
   "metadata": {},
   "outputs": [],
   "source": []
  }
 ],
 "metadata": {
  "kernelspec": {
   "display_name": "Python 3 (ipykernel)",
   "language": "python",
   "name": "python3"
  },
  "language_info": {
   "codemirror_mode": {
    "name": "ipython",
    "version": 3
   },
   "file_extension": ".py",
   "mimetype": "text/x-python",
   "name": "python",
   "nbconvert_exporter": "python",
   "pygments_lexer": "ipython3",
   "version": "3.11.5"
  }
 },
 "nbformat": 4,
 "nbformat_minor": 5
}

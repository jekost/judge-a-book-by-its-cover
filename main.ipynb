{
 "cells": [
  {
   "cell_type": "code",
   "execution_count": 92,
   "id": "4caf0745",
   "metadata": {},
   "outputs": [],
   "source": [
    "#!python -m pip install tensorflow"
   ]
  },
  {
   "cell_type": "code",
   "execution_count": 23,
   "id": "46984f75",
   "metadata": {},
   "outputs": [],
   "source": [
    "from IPython.display import display, Image\n",
    "import cv2 as cv\n",
    "from PIL import Image\n",
    "\n",
    "#august\n",
    "import os\n",
    "import pandas as pd\n",
    "import numpy as np\n",
    "\n",
    "\n",
    "#!pip install tensorflow\n",
    "import tensorflow\n",
    "from tensorflow.keras.applications import ResNet50\n",
    "from tensorflow.keras.layers import Conv2D, MaxPooling2D, Flatten, Dense, Dropout\n",
    "from tensorflow.keras.models import Sequential, load_model\n",
    "from tensorflow.keras.preprocessing.image import ImageDataGenerator\n",
    "from sklearn.model_selection import train_test_split\n",
    "from sklearn.preprocessing import StandardScaler, LabelEncoder"
   ]
  },
  {
   "cell_type": "code",
   "execution_count": 3,
   "id": "b156ebf1",
   "metadata": {},
   "outputs": [],
   "source": [
    "#display(Image(filename='brad.jpg'))\n",
    "#display(Image(filename='kim.jpg'))\n",
    "face_cascade = cv.CascadeClassifier(\"haarcascade_frontalface_default.xml\")\n",
    "eye_cascade = cv.CascadeClassifier(\"haarcascade_eye.xml\")"
   ]
  },
  {
   "cell_type": "code",
   "execution_count": 4,
   "id": "27c7241e",
   "metadata": {},
   "outputs": [],
   "source": [
    "def coords_for_crop(img_address):\n",
    "\n",
    "    img = cv.imread(img_address)\n",
    "    im = Image.open(img_address) \n",
    "\n",
    "    gray = cv.cvtColor(img, cv.COLOR_BGR2GRAY)\n",
    "    faces = face_cascade.detectMultiScale(gray)\n",
    "\n",
    "    xUpper, yUpper, xLower, yLower = 0,0,0,0\n",
    "    \n",
    "    \n",
    "\n",
    "    for (x, y, w, h) in faces:\n",
    "        #print(w,h,type(w),type(h))\n",
    "        if (w>600 and h> 600):\n",
    "            return x,y,x+w,y+h\n",
    "        \n",
    "        \n",
    "        #cv.rectangle(img, (x, y), (x+w, y+h), (0, 0, 255), 2)\n",
    "        #roi_gray = gray[y : y + h, x : x + h]\n",
    "        #roi_color = img[y : y + h, x : x + h]\n",
    "        # Otsi silmi vaid leitud nägude aladelt (kollased ristkülikud)\n",
    "        #eyes = eye_cascade.detectMultiScale(roi_gray)\n",
    "        #for (ex, ey, ew, eh) in eyes:\n",
    "            #cv.rectangle(roi_color, (ex, ey), (ex+ew, ey+eh), (0, 255, 255), 2)\n",
    "\n",
    "\n",
    "    # Otsi silmi kogu fotolt (rohelised ristkülikud)\n",
    "    #eyes = eye_cascade.detectMultiScale(gray)\n",
    "    #for (ex, ey, ew, eh) in eyes:\n",
    "        #cv.rectangle(img, (ex, ey), (ex+ew, ey+eh), (0, 255, 0), 2)\n",
    "\n",
    "    #im1 = im.crop((xUpper, yUpper, xLower, yLower))\n",
    "    #im1.show()\n",
    "    #cv.waitKey(0)\n",
    "    #cv.destroyAllWindows()"
   ]
  },
  {
   "cell_type": "code",
   "execution_count": 27,
   "id": "999f0281",
   "metadata": {},
   "outputs": [],
   "source": [
    "# Pildi salvestamiseks\n",
    "#cv.imwrite('jott_koopia.png', img)"
   ]
  },
  {
   "cell_type": "code",
   "execution_count": null,
   "id": "77570e51",
   "metadata": {},
   "outputs": [],
   "source": []
  },
  {
   "cell_type": "code",
   "execution_count": null,
   "id": "f0ce3379",
   "metadata": {},
   "outputs": [],
   "source": []
  },
  {
   "cell_type": "code",
   "execution_count": 17,
   "id": "b7718eb8",
   "metadata": {},
   "outputs": [
    {
     "ename": "KeyboardInterrupt",
     "evalue": "",
     "output_type": "error",
     "traceback": [
      "\u001b[1;31m---------------------------------------------------------------------------\u001b[0m",
      "\u001b[1;31mKeyboardInterrupt\u001b[0m                         Traceback (most recent call last)",
      "Cell \u001b[1;32mIn[17], line 33\u001b[0m\n\u001b[0;32m     30\u001b[0m img \u001b[38;5;241m=\u001b[39m Image\u001b[38;5;241m.\u001b[39mopen(image_path)\n\u001b[0;32m     32\u001b[0m \u001b[38;5;66;03m#crop image so it will only contain the face of the person\u001b[39;00m\n\u001b[1;32m---> 33\u001b[0m img \u001b[38;5;241m=\u001b[39m img\u001b[38;5;241m.\u001b[39mcrop(\u001b[43mcoords_for_crop\u001b[49m\u001b[43m(\u001b[49m\u001b[43mimage_path\u001b[49m\u001b[43m)\u001b[49m)\n\u001b[0;32m     35\u001b[0m \u001b[38;5;66;03m#resize image to 600x600 \u001b[39;00m\n\u001b[0;32m     36\u001b[0m img \u001b[38;5;241m=\u001b[39m img\u001b[38;5;241m.\u001b[39mresize((\u001b[38;5;241m600\u001b[39m,\u001b[38;5;241m600\u001b[39m))\n",
      "Cell \u001b[1;32mIn[4], line 7\u001b[0m, in \u001b[0;36mcoords_for_crop\u001b[1;34m(img_address)\u001b[0m\n\u001b[0;32m      4\u001b[0m im \u001b[38;5;241m=\u001b[39m Image\u001b[38;5;241m.\u001b[39mopen(img_address) \n\u001b[0;32m      6\u001b[0m gray \u001b[38;5;241m=\u001b[39m cv\u001b[38;5;241m.\u001b[39mcvtColor(img, cv\u001b[38;5;241m.\u001b[39mCOLOR_BGR2GRAY)\n\u001b[1;32m----> 7\u001b[0m faces \u001b[38;5;241m=\u001b[39m \u001b[43mface_cascade\u001b[49m\u001b[38;5;241;43m.\u001b[39;49m\u001b[43mdetectMultiScale\u001b[49m\u001b[43m(\u001b[49m\u001b[43mgray\u001b[49m\u001b[43m)\u001b[49m\n\u001b[0;32m      9\u001b[0m xUpper, yUpper, xLower, yLower \u001b[38;5;241m=\u001b[39m \u001b[38;5;241m0\u001b[39m,\u001b[38;5;241m0\u001b[39m,\u001b[38;5;241m0\u001b[39m,\u001b[38;5;241m0\u001b[39m\n\u001b[0;32m     13\u001b[0m \u001b[38;5;28;01mfor\u001b[39;00m (x, y, w, h) \u001b[38;5;129;01min\u001b[39;00m faces:\n\u001b[0;32m     14\u001b[0m     \u001b[38;5;66;03m#print(w,h,type(w),type(h))\u001b[39;00m\n",
      "\u001b[1;31mKeyboardInterrupt\u001b[0m: "
     ]
    }
   ],
   "source": [
    "import os\n",
    "import pandas as pd\n",
    "from PIL import Image\n",
    "from numpy import asarray\n",
    "\n",
    "# Defineerime CSV faili tee ja piltide peamise kausta tee\n",
    "csv_file_path = './ratings.csv'\n",
    "images_folder_path = './people'\n",
    "\n",
    "# Laadime CSV faili\n",
    "df = pd.read_csv(csv_file_path, header=None)\n",
    "\n",
    "# Loome tühja DataFrame, kuhu salvestame ümberstruktureeritud andmed\n",
    "columns = ['usaldusväärsus', 'ilu', 'intelligents', \"pilt\"]\n",
    "andmestik_df = pd.DataFrame(columns=columns)\n",
    "\n",
    "# Itereerime läbi CSV andmete ja lisame need ümberstruktureeritult uude DataFrame'i\n",
    "for index, row in df.iterrows():\n",
    "    # Määrame kausta nime vastavalt rea indeksile\n",
    "    folder_name = f'id{index + 1}'\n",
    "    folder_path = os.path.join(images_folder_path, folder_name)\n",
    "    \n",
    "    # Lisame andmed vastavalt kaustas olevatele piltidele\n",
    "    for i in range(0, len(row)-3, 3):\n",
    "        image_name = f'Allalaaditud fail ({i//3 + 1}).jpeg'  # Oletame, et pildid on nimedega img1.jpg, img2.jpg, img3.jpg\n",
    "        image_path = os.path.join(folder_path, image_name)\n",
    "        \n",
    "        # load the image and convert into\n",
    "        # numpy array\n",
    "        img = Image.open(image_path)\n",
    "        \n",
    "        #crop image so it will only contain the face of the person\n",
    "        img = img.crop(coords_for_crop(image_path))\n",
    "        \n",
    "        #resize image to 600x600 \n",
    "        img = img.resize((600,600))\n",
    "        \n",
    "        ##\n",
    "        #img.show()\n",
    "        ##\n",
    "        \n",
    "        # asarray() class is used to convert\n",
    "        # PIL images into NumPy arrays\n",
    "        image_array = asarray(img)\n",
    "        \n",
    "        \n",
    "        image_data = pd.DataFrame({\n",
    "            'usaldusväärsus': [row[i]],\n",
    "            'ilu': [row[i+1]],\n",
    "            'intelligents': [row[i+2]],\n",
    "            'pilt': [image_array]  \n",
    "        })\n",
    "        andmestik_df = pd.concat([andmestik_df,image_data], ignore_index=True)\n",
    "\n",
    "\n",
    "# Kui soovite tulemused salvestada uude CSV faili\n",
    "andmestik_df.to_csv('reshaped_file.csv', index=True)\n",
    "# Vaatame ümberstruktureeritud andmeid\n",
    "print(andmestik_df.info())"
   ]
  },
  {
   "cell_type": "code",
   "execution_count": null,
   "id": "5dbaa937",
   "metadata": {},
   "outputs": [],
   "source": []
  },
  {
   "cell_type": "code",
   "execution_count": 20,
   "id": "93812f00",
   "metadata": {},
   "outputs": [
    {
     "name": "stderr",
     "output_type": "stream",
     "text": [
      "C:\\Users\\kost\\AppData\\Local\\anaconda3\\Lib\\site-packages\\keras\\src\\layers\\convolutional\\base_conv.py:107: UserWarning: Do not pass an `input_shape`/`input_dim` argument to a layer. When using Sequential models, prefer using an `Input(shape)` object as the first layer in the model instead.\n",
      "  super().__init__(activity_regularizer=activity_regularizer, **kwargs)\n"
     ]
    },
    {
     "name": "stdout",
     "output_type": "stream",
     "text": [
      "Epoch 1/25\n",
      "\u001b[1m1/1\u001b[0m \u001b[32m━━━━━━━━━━━━━━━━━━━━\u001b[0m\u001b[37m\u001b[0m \u001b[1m10s\u001b[0m 10s/step - loss: 43.8635 - mae: 6.1694 - val_loss: 12148.9482 - val_mae: 109.7381\n",
      "Epoch 2/25\n",
      "\u001b[1m1/1\u001b[0m \u001b[32m━━━━━━━━━━━━━━━━━━━━\u001b[0m\u001b[37m\u001b[0m \u001b[1m5s\u001b[0m 5s/step - loss: 12027.5801 - mae: 105.8244 - val_loss: 57.9376 - val_mae: 6.0829\n",
      "Epoch 3/25\n",
      "\u001b[1m1/1\u001b[0m \u001b[32m━━━━━━━━━━━━━━━━━━━━\u001b[0m\u001b[37m\u001b[0m \u001b[1m4s\u001b[0m 4s/step - loss: 73.7829 - mae: 6.3102 - val_loss: 125.3441 - val_mae: 10.5204\n",
      "Epoch 4/25\n",
      "\u001b[1m1/1\u001b[0m \u001b[32m━━━━━━━━━━━━━━━━━━━━\u001b[0m\u001b[37m\u001b[0m \u001b[1m4s\u001b[0m 4s/step - loss: 166.5204 - mae: 12.0979 - val_loss: 75.2971 - val_mae: 8.1841\n",
      "Epoch 5/25\n",
      "\u001b[1m1/1\u001b[0m \u001b[32m━━━━━━━━━━━━━━━━━━━━\u001b[0m\u001b[37m\u001b[0m \u001b[1m4s\u001b[0m 4s/step - loss: 111.6534 - mae: 10.0324 - val_loss: 43.3864 - val_mae: 6.1376\n",
      "Epoch 6/25\n",
      "\u001b[1m1/1\u001b[0m \u001b[32m━━━━━━━━━━━━━━━━━━━━\u001b[0m\u001b[37m\u001b[0m \u001b[1m4s\u001b[0m 4s/step - loss: 66.7333 - mae: 7.6287 - val_loss: 27.6405 - val_mae: 4.7568\n",
      "Epoch 7/25\n",
      "\u001b[1m1/1\u001b[0m \u001b[32m━━━━━━━━━━━━━━━━━━━━\u001b[0m\u001b[37m\u001b[0m \u001b[1m4s\u001b[0m 4s/step - loss: 44.3665 - mae: 6.1244 - val_loss: 19.7355 - val_mae: 3.8580\n",
      "Epoch 8/25\n",
      "\u001b[1m1/1\u001b[0m \u001b[32m━━━━━━━━━━━━━━━━━━━━\u001b[0m\u001b[37m\u001b[0m \u001b[1m4s\u001b[0m 4s/step - loss: 29.4694 - mae: 4.8302 - val_loss: 13.6826 - val_mae: 3.0322\n",
      "Epoch 9/25\n",
      "\u001b[1m1/1\u001b[0m \u001b[32m━━━━━━━━━━━━━━━━━━━━\u001b[0m\u001b[37m\u001b[0m \u001b[1m4s\u001b[0m 4s/step - loss: 24.5008 - mae: 4.3340 - val_loss: 8.1541 - val_mae: 2.1700\n",
      "Epoch 10/25\n",
      "\u001b[1m1/1\u001b[0m \u001b[32m━━━━━━━━━━━━━━━━━━━━\u001b[0m\u001b[37m\u001b[0m \u001b[1m4s\u001b[0m 4s/step - loss: 13.5106 - mae: 3.0859 - val_loss: 4.4842 - val_mae: 1.9196\n",
      "Epoch 11/25\n",
      "\u001b[1m1/1\u001b[0m \u001b[32m━━━━━━━━━━━━━━━━━━━━\u001b[0m\u001b[37m\u001b[0m \u001b[1m4s\u001b[0m 4s/step - loss: 12.5788 - mae: 3.0308 - val_loss: 6.7569 - val_mae: 2.1869\n",
      "Epoch 12/25\n",
      "\u001b[1m1/1\u001b[0m \u001b[32m━━━━━━━━━━━━━━━━━━━━\u001b[0m\u001b[37m\u001b[0m \u001b[1m4s\u001b[0m 4s/step - loss: 7.4818 - mae: 2.2355 - val_loss: 15.3180 - val_mae: 3.2823\n",
      "Epoch 13/25\n",
      "\u001b[1m1/1\u001b[0m \u001b[32m━━━━━━━━━━━━━━━━━━━━\u001b[0m\u001b[37m\u001b[0m \u001b[1m4s\u001b[0m 4s/step - loss: 25.3486 - mae: 3.7184 - val_loss: 9.0132 - val_mae: 2.5043\n",
      "Epoch 14/25\n",
      "\u001b[1m1/1\u001b[0m \u001b[32m━━━━━━━━━━━━━━━━━━━━\u001b[0m\u001b[37m\u001b[0m \u001b[1m4s\u001b[0m 4s/step - loss: 9.8230 - mae: 2.5103 - val_loss: 5.3517 - val_mae: 2.1326\n",
      "Epoch 15/25\n",
      "\u001b[1m1/1\u001b[0m \u001b[32m━━━━━━━━━━━━━━━━━━━━\u001b[0m\u001b[37m\u001b[0m \u001b[1m4s\u001b[0m 4s/step - loss: 10.6649 - mae: 2.8203 - val_loss: 4.7039 - val_mae: 2.0433\n",
      "Epoch 16/25\n",
      "\u001b[1m1/1\u001b[0m \u001b[32m━━━━━━━━━━━━━━━━━━━━\u001b[0m\u001b[37m\u001b[0m \u001b[1m4s\u001b[0m 4s/step - loss: 12.1440 - mae: 2.8467 - val_loss: 4.5796 - val_mae: 1.9624\n",
      "Epoch 17/25\n",
      "\u001b[1m1/1\u001b[0m \u001b[32m━━━━━━━━━━━━━━━━━━━━\u001b[0m\u001b[37m\u001b[0m \u001b[1m4s\u001b[0m 4s/step - loss: 12.3752 - mae: 2.9591 - val_loss: 4.4818 - val_mae: 1.9267\n",
      "Epoch 18/25\n",
      "\u001b[1m1/1\u001b[0m \u001b[32m━━━━━━━━━━━━━━━━━━━━\u001b[0m\u001b[37m\u001b[0m \u001b[1m4s\u001b[0m 4s/step - loss: 8.7593 - mae: 2.4269 - val_loss: 4.2074 - val_mae: 1.9256\n",
      "Epoch 19/25\n",
      "\u001b[1m1/1\u001b[0m \u001b[32m━━━━━━━━━━━━━━━━━━━━\u001b[0m\u001b[37m\u001b[0m \u001b[1m4s\u001b[0m 4s/step - loss: 13.1722 - mae: 3.0482 - val_loss: 4.1511 - val_mae: 1.9508\n",
      "Epoch 20/25\n",
      "\u001b[1m1/1\u001b[0m \u001b[32m━━━━━━━━━━━━━━━━━━━━\u001b[0m\u001b[37m\u001b[0m \u001b[1m4s\u001b[0m 4s/step - loss: 11.8452 - mae: 2.8920 - val_loss: 4.9166 - val_mae: 2.0325\n",
      "Epoch 21/25\n",
      "\u001b[1m1/1\u001b[0m \u001b[32m━━━━━━━━━━━━━━━━━━━━\u001b[0m\u001b[37m\u001b[0m \u001b[1m4s\u001b[0m 4s/step - loss: 7.2199 - mae: 2.3134 - val_loss: 6.3272 - val_mae: 2.1768\n",
      "Epoch 22/25\n",
      "\u001b[1m1/1\u001b[0m \u001b[32m━━━━━━━━━━━━━━━━━━━━\u001b[0m\u001b[37m\u001b[0m \u001b[1m4s\u001b[0m 4s/step - loss: 9.3768 - mae: 2.4643 - val_loss: 7.3825 - val_mae: 2.3034\n",
      "Epoch 23/25\n",
      "\u001b[1m1/1\u001b[0m \u001b[32m━━━━━━━━━━━━━━━━━━━━\u001b[0m\u001b[37m\u001b[0m \u001b[1m4s\u001b[0m 4s/step - loss: 13.4061 - mae: 2.6544 - val_loss: 6.3319 - val_mae: 2.2090\n",
      "Epoch 24/25\n",
      "\u001b[1m1/1\u001b[0m \u001b[32m━━━━━━━━━━━━━━━━━━━━\u001b[0m\u001b[37m\u001b[0m \u001b[1m4s\u001b[0m 4s/step - loss: 6.2715 - mae: 2.0910 - val_loss: 5.9085 - val_mae: 2.1934\n",
      "Epoch 25/25\n",
      "\u001b[1m1/1\u001b[0m \u001b[32m━━━━━━━━━━━━━━━━━━━━\u001b[0m\u001b[37m\u001b[0m \u001b[1m4s\u001b[0m 4s/step - loss: 7.5285 - mae: 2.2758 - val_loss: 5.6419 - val_mae: 2.1610\n",
      "\u001b[1m1/1\u001b[0m \u001b[32m━━━━━━━━━━━━━━━━━━━━\u001b[0m\u001b[37m\u001b[0m \u001b[1m0s\u001b[0m 310ms/step - loss: 5.5539 - mae: 1.9668\n"
     ]
    },
    {
     "name": "stderr",
     "output_type": "stream",
     "text": [
      "WARNING:absl:You are saving your model as an HDF5 file via `model.save()` or `keras.saving.save_model(model)`. This file format is considered legacy. We recommend using instead the native Keras format, e.g. `model.save('my_model.keras')` or `keras.saving.save_model(model, 'my_model.keras')`. \n"
     ]
    },
    {
     "name": "stdout",
     "output_type": "stream",
     "text": [
      "Model evaluation - Loss: 5.553903102874756, MAE: 1.9667624235153198\n"
     ]
    }
   ],
   "source": [
    "# Load the data\n",
    "#df = pd.read_csv('reshaped_file.csv')  # assuming your data is in a CSV file\n",
    "df = andmestik_df\n",
    "\n",
    "# Drop rows with missing ratings\n",
    "df = df.dropna(subset=['usaldusväärsus', 'ilu', 'intelligents'])\n",
    "\n",
    "# Extract the images and labels\n",
    "images = np.stack(df['pilt'].values)\n",
    "ratings = df[['usaldusväärsus', 'ilu', 'intelligents']].values\n",
    "\n",
    "# Normalize image data\n",
    "images = images / 255.0\n",
    "\n",
    "# Split the data into training and testing sets\n",
    "X_train, X_test, y_train, y_test = train_test_split(images, ratings, test_size=0.2, random_state=42)\n",
    "\n",
    "# Define the CNN model\n",
    "model = Sequential([\n",
    "    Conv2D(32, (3, 3), activation='relu', input_shape=(600, 600, 3)),\n",
    "    MaxPooling2D((2, 2)),\n",
    "    Conv2D(64, (3, 3), activation='relu'),\n",
    "    MaxPooling2D((2, 2)),\n",
    "    Conv2D(128, (3, 3), activation='relu'),\n",
    "    MaxPooling2D((2, 2)),\n",
    "    Flatten(),\n",
    "    Dense(512, activation='relu'),\n",
    "    Dropout(0.5),\n",
    "    Dense(3)  # Output layer for the 3 ratings\n",
    "])\n",
    "\n",
    "# Compile the model\n",
    "model.compile(optimizer='adam', loss='mean_squared_error', metrics=['mae'])\n",
    "\n",
    "# Train the model\n",
    "history = model.fit(X_train, y_train, epochs=25, batch_size=16, validation_split=0.2)\n",
    "\n",
    "# Evaluate the model\n",
    "loss, mae = model.evaluate(X_test, y_test)\n",
    "print(f'Model evaluation - Loss: {loss}, MAE: {mae}')\n",
    "\n",
    "# Save the model\n",
    "model.save('face_ratings_model.h5')"
   ]
  },
  {
   "cell_type": "code",
   "execution_count": null,
   "id": "5a0a9bfc",
   "metadata": {},
   "outputs": [],
   "source": []
  },
  {
   "cell_type": "code",
   "execution_count": 29,
   "id": "9f14c7d7",
   "metadata": {},
   "outputs": [
    {
     "name": "stderr",
     "output_type": "stream",
     "text": [
      "WARNING:absl:Compiled the loaded model, but the compiled metrics have yet to be built. `model.compile_metrics` will be empty until you train or evaluate the model.\n"
     ]
    },
    {
     "name": "stdout",
     "output_type": "stream",
     "text": [
      "\u001b[1m1/1\u001b[0m \u001b[32m━━━━━━━━━━━━━━━━━━━━\u001b[0m\u001b[37m\u001b[0m \u001b[1m0s\u001b[0m 212ms/step\n",
      "Predicted Reliability (usaldusväärsus): 2.830345630645752\n",
      "Predicted Attractiveness (ilu): 3.0858256816864014\n",
      "Predicted Intelligence (intelligents): 3.032499313354492\n"
     ]
    }
   ],
   "source": [
    "# Load the trained model\n",
    "model = load_model('face_ratings_model.h5')\n",
    "\n",
    "# Function to preprocess the image\n",
    "def preprocess_image(image_path):\n",
    "    image = Image.open(image_path)\n",
    "    \n",
    "    image = image.crop(coords_for_crop(image_path))\n",
    "    image.show()\n",
    "    image = image.resize((600, 600))  # Ensure the image is 600x600 pixels\n",
    "    image = np.array(image) / 255.0  # Normalize the image\n",
    "    image = np.expand_dims(image, axis=0)  # Add batch dimension\n",
    "    return image\n",
    "\n",
    "# Path to the random image\n",
    "random_image_path = 'people/brad.jpg'  # Replace with the actual path\n",
    "\n",
    "# Preprocess the image\n",
    "preprocessed_image = preprocess_image(random_image_path)\n",
    "\n",
    "# Predict the ratings\n",
    "predicted_ratings = model.predict(preprocessed_image)\n",
    "\n",
    "# Print the predicted ratings\n",
    "usaldusvaarus, ilu, intelligents = predicted_ratings[0]\n",
    "print(f\"Predicted Reliability (usaldusväärsus): {usaldusvaarus}\")\n",
    "print(f\"Predicted Attractiveness (ilu): {ilu}\")\n",
    "print(f\"Predicted Intelligence (intelligents): {intelligents}\")"
   ]
  },
  {
   "cell_type": "code",
   "execution_count": null,
   "id": "0ff89c3c",
   "metadata": {},
   "outputs": [],
   "source": []
  },
  {
   "cell_type": "code",
   "execution_count": null,
   "id": "e6dfe00e",
   "metadata": {},
   "outputs": [],
   "source": []
  }
 ],
 "metadata": {
  "kernelspec": {
   "display_name": "Python 3 (ipykernel)",
   "language": "python",
   "name": "python3"
  },
  "language_info": {
   "codemirror_mode": {
    "name": "ipython",
    "version": 3
   },
   "file_extension": ".py",
   "mimetype": "text/x-python",
   "name": "python",
   "nbconvert_exporter": "python",
   "pygments_lexer": "ipython3",
   "version": "3.11.5"
  }
 },
 "nbformat": 4,
 "nbformat_minor": 5
}

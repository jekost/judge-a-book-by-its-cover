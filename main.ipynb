{
 "cells": [
  {
   "cell_type": "code",
   "execution_count": 33,
   "id": "46984f75",
   "metadata": {},
   "outputs": [],
   "source": [
    "from IPython.display import display, Image\n",
    "import cv2 as cv\n",
    "from PIL import Image\n",
    "\n",
    "#august\n",
    "import os\n",
    "import pandas as pd\n",
    "from numpy import asarray"
   ]
  },
  {
   "cell_type": "code",
   "execution_count": 6,
   "id": "b156ebf1",
   "metadata": {},
   "outputs": [],
   "source": [
    "#display(Image(filename='brad.jpg'))\n",
    "#display(Image(filename='kim.jpg'))\n",
    "face_cascade = cv.CascadeClassifier(\"haarcascade_frontalface_default.xml\")\n",
    "eye_cascade = cv.CascadeClassifier(\"haarcascade_eye.xml\")"
   ]
  },
  {
   "cell_type": "code",
   "execution_count": 58,
   "id": "27c7241e",
   "metadata": {},
   "outputs": [],
   "source": [
    "def coords_for_crop(img_address):\n",
    "\n",
    "    img = cv.imread(img_address)\n",
    "    im = Image.open(img_address) \n",
    "\n",
    "    gray = cv.cvtColor(img, cv.COLOR_BGR2GRAY)\n",
    "    faces = face_cascade.detectMultiScale(gray)\n",
    "\n",
    "    xUpper, yUpper, xLower, yLower = 0,0,0,0\n",
    "    \n",
    "    \n",
    "\n",
    "    for (x, y, w, h) in faces:\n",
    "        #print(w,h,type(w),type(h))\n",
    "        if (w>600 and h> 600):\n",
    "            return x,y,x+w,y+h\n",
    "        \n",
    "        \n",
    "        #cv.rectangle(img, (x, y), (x+w, y+h), (0, 0, 255), 2)\n",
    "        #roi_gray = gray[y : y + h, x : x + h]\n",
    "        #roi_color = img[y : y + h, x : x + h]\n",
    "        # Otsi silmi vaid leitud nägude aladelt (kollased ristkülikud)\n",
    "        #eyes = eye_cascade.detectMultiScale(roi_gray)\n",
    "        #for (ex, ey, ew, eh) in eyes:\n",
    "            #cv.rectangle(roi_color, (ex, ey), (ex+ew, ey+eh), (0, 255, 255), 2)\n",
    "\n",
    "\n",
    "    # Otsi silmi kogu fotolt (rohelised ristkülikud)\n",
    "    #eyes = eye_cascade.detectMultiScale(gray)\n",
    "    #for (ex, ey, ew, eh) in eyes:\n",
    "        #cv.rectangle(img, (ex, ey), (ex+ew, ey+eh), (0, 255, 0), 2)\n",
    "\n",
    "    #im1 = im.crop((xUpper, yUpper, xLower, yLower))\n",
    "    #im1.show()\n",
    "    #cv.waitKey(0)\n",
    "    #cv.destroyAllWindows()"
   ]
  },
  {
   "cell_type": "code",
   "execution_count": 27,
   "id": "999f0281",
   "metadata": {},
   "outputs": [],
   "source": [
    "# Pildi salvestamiseks\n",
    "#cv.imwrite('jott_koopia.png', img)"
   ]
  },
  {
   "cell_type": "code",
   "execution_count": null,
   "id": "77570e51",
   "metadata": {},
   "outputs": [],
   "source": []
  },
  {
   "cell_type": "code",
   "execution_count": null,
   "id": "f0ce3379",
   "metadata": {},
   "outputs": [],
   "source": []
  },
  {
   "cell_type": "code",
   "execution_count": 64,
   "id": "b7718eb8",
   "metadata": {},
   "outputs": [
    {
     "name": "stdout",
     "output_type": "stream",
     "text": [
      "<class 'pandas.core.frame.DataFrame'>\n",
      "RangeIndex: 210 entries, 0 to 209\n",
      "Data columns (total 4 columns):\n",
      " #   Column          Non-Null Count  Dtype  \n",
      "---  ------          --------------  -----  \n",
      " 0   usaldusväärsus  180 non-null    float64\n",
      " 1   ilu             180 non-null    float64\n",
      " 2   intelligents    180 non-null    float64\n",
      " 3   pilt            210 non-null    object \n",
      "dtypes: float64(3), object(1)\n",
      "memory usage: 6.7+ KB\n",
      "None\n"
     ]
    }
   ],
   "source": [
    "import os\n",
    "import pandas as pd\n",
    "from PIL import Image\n",
    "from numpy import asarray\n",
    "\n",
    "# Defineerime CSV faili tee ja piltide peamise kausta tee\n",
    "csv_file_path = './ratings.csv'\n",
    "images_folder_path = './people'\n",
    "\n",
    "# Laadime CSV faili\n",
    "df = pd.read_csv(csv_file_path, header=None)\n",
    "\n",
    "# Loome tühja DataFrame, kuhu salvestame ümberstruktureeritud andmed\n",
    "columns = ['usaldusväärsus', 'ilu', 'intelligents', \"pilt\"]\n",
    "andmestik_df = pd.DataFrame(columns=columns)\n",
    "\n",
    "# Itereerime läbi CSV andmete ja lisame need ümberstruktureeritult uude DataFrame'i\n",
    "for index, row in df.iterrows():\n",
    "    # Määrame kausta nime vastavalt rea indeksile\n",
    "    folder_name = f'id{index + 1}'\n",
    "    folder_path = os.path.join(images_folder_path, folder_name)\n",
    "    \n",
    "    # Lisame andmed vastavalt kaustas olevatele piltidele\n",
    "    for i in range(0, len(row)-3, 3):\n",
    "        image_name = f'Allalaaditud fail ({i//3 + 1}).jpeg'  # Oletame, et pildid on nimedega img1.jpg, img2.jpg, img3.jpg\n",
    "        image_path = os.path.join(folder_path, image_name)\n",
    "        \n",
    "        # load the image and convert into\n",
    "        # numpy array\n",
    "        img = Image.open(image_path)\n",
    "        \n",
    "        #crop image so it will only contain the face of the person\n",
    "        img = img.crop(coords_for_crop(image_path))\n",
    "        \n",
    "        #resize image to 600x600 \n",
    "        img = img.resize((600,600))\n",
    "        \n",
    "        ##\n",
    "        #img.show()\n",
    "        ##\n",
    "        \n",
    "        # asarray() class is used to convert\n",
    "        # PIL images into NumPy arrays\n",
    "        image_array = asarray(img)\n",
    "        \n",
    "        \n",
    "        image_data = pd.DataFrame({\n",
    "            'usaldusväärsus': [row[i]],\n",
    "            'ilu': [row[i+1]],\n",
    "            'intelligents': [row[i+2]],\n",
    "            'pilt': [image_array]  \n",
    "        })\n",
    "        andmestik_df = pd.concat([andmestik_df,image_data], ignore_index=True)\n",
    "\n",
    "\n",
    "# Kui soovite tulemused salvestada uude CSV faili\n",
    "andmestik_df.to_csv('reshaped_file.csv', index=True)\n",
    "# Vaatame ümberstruktureeritud andmeid\n",
    "print(andmestik_df.info())"
   ]
  },
  {
   "cell_type": "code",
   "execution_count": null,
   "id": "5dbaa937",
   "metadata": {},
   "outputs": [],
   "source": []
  },
  {
   "cell_type": "code",
   "execution_count": null,
   "id": "93812f00",
   "metadata": {},
   "outputs": [],
   "source": []
  },
  {
   "cell_type": "code",
   "execution_count": null,
   "id": "5a0a9bfc",
   "metadata": {},
   "outputs": [],
   "source": []
  },
  {
   "cell_type": "code",
   "execution_count": null,
   "id": "9f14c7d7",
   "metadata": {},
   "outputs": [],
   "source": []
  },
  {
   "cell_type": "code",
   "execution_count": null,
   "id": "0ff89c3c",
   "metadata": {},
   "outputs": [],
   "source": []
  },
  {
   "cell_type": "code",
   "execution_count": null,
   "id": "e6dfe00e",
   "metadata": {},
   "outputs": [],
   "source": []
  }
 ],
 "metadata": {
  "kernelspec": {
   "display_name": "Python 3 (ipykernel)",
   "language": "python",
   "name": "python3"
  },
  "language_info": {
   "codemirror_mode": {
    "name": "ipython",
    "version": 3
   },
   "file_extension": ".py",
   "mimetype": "text/x-python",
   "name": "python",
   "nbconvert_exporter": "python",
   "pygments_lexer": "ipython3",
   "version": "3.11.5"
  }
 },
 "nbformat": 4,
 "nbformat_minor": 5
}

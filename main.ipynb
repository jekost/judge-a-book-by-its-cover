{
 "cells": [
  {
   "cell_type": "code",
   "execution_count": 28,
   "id": "46984f75",
   "metadata": {},
   "outputs": [],
   "source": [
    "from IPython.display import display, Image\n",
    "import cv2 as cv\n",
    "from PIL import Image"
   ]
  },
  {
   "cell_type": "code",
   "execution_count": 17,
   "id": "b156ebf1",
   "metadata": {},
   "outputs": [],
   "source": [
    "#display(Image(filename='brad.jpg'))\n",
    "#display(Image(filename='kim.jpg'))\n",
    "face_cascade = cv.CascadeClassifier(\"haarcascade_frontalface_default.xml\")\n",
    "eye_cascade = cv.CascadeClassifier(\"haarcascade_eye.xml\")"
   ]
  },
  {
   "cell_type": "code",
   "execution_count": 32,
   "id": "27c7241e",
   "metadata": {},
   "outputs": [],
   "source": [
    "img = cv.imread('kim.jpg')\n",
    "im = Image.open(\"brad.jpg\") \n",
    "\n",
    "gray = cv.cvtColor(img, cv.COLOR_BGR2GRAY)\n",
    "faces = face_cascade.detectMultiScale(gray)\n",
    "\n",
    "for (x, y, w, h) in faces:\n",
    "    cv.rectangle(img, (x, y), (x+w, y+h), (0, 0, 255), 2)\n",
    "    roi_gray = gray[y : y + h, x : x + h]\n",
    "    roi_color = img[y : y + h, x : x + h]\n",
    "    # Otsi silmi vaid leitud nägude aladelt (kollased ristkülikud)\n",
    "    eyes = eye_cascade.detectMultiScale(roi_gray)\n",
    "    for (ex, ey, ew, eh) in eyes:\n",
    "        cv.rectangle(roi_color, (ex, ey), (ex+ew, ey+eh), (0, 255, 255), 2)\n",
    "    im1 = im.crop((x, y, x+w, y+h))\n",
    "    im1.show()\n",
    "\n",
    "# Otsi silmi kogu fotolt (rohelised ristkülikud)\n",
    "eyes = eye_cascade.detectMultiScale(gray)\n",
    "for (ex, ey, ew, eh) in eyes:\n",
    "    cv.rectangle(img, (ex, ey), (ex+ew, ey+eh), (0, 255, 0), 2)\n",
    "    \n",
    "\n",
    "cv.imshow('Pealkiri', img)\n",
    "cv.waitKey(0)\n",
    "cv.destroyAllWindows()"
   ]
  },
  {
   "cell_type": "code",
   "execution_count": 27,
   "id": "999f0281",
   "metadata": {},
   "outputs": [],
   "source": [
    "# Pildi salvestamiseks\n",
    "#cv.imwrite('jott_koopia.png', img)"
   ]
  },
  {
   "cell_type": "code",
   "execution_count": null,
   "id": "77570e51",
   "metadata": {},
   "outputs": [],
   "source": []
  },
  {
   "cell_type": "code",
   "execution_count": null,
   "id": "f0ce3379",
   "metadata": {},
   "outputs": [],
   "source": []
  },
  {
   "cell_type": "code",
   "execution_count": null,
   "id": "b7718eb8",
   "metadata": {},
   "outputs": [],
   "source": []
  },
  {
   "cell_type": "code",
   "execution_count": null,
   "id": "5dbaa937",
   "metadata": {},
   "outputs": [],
   "source": []
  },
  {
   "cell_type": "code",
   "execution_count": null,
   "id": "93812f00",
   "metadata": {},
   "outputs": [],
   "source": []
  },
  {
   "cell_type": "code",
   "execution_count": null,
   "id": "5a0a9bfc",
   "metadata": {},
   "outputs": [],
   "source": []
  },
  {
   "cell_type": "code",
   "execution_count": null,
   "id": "9f14c7d7",
   "metadata": {},
   "outputs": [],
   "source": []
  },
  {
   "cell_type": "code",
   "execution_count": null,
   "id": "0ff89c3c",
   "metadata": {},
   "outputs": [],
   "source": []
  },
  {
   "cell_type": "code",
   "execution_count": null,
   "id": "e6dfe00e",
   "metadata": {},
   "outputs": [],
   "source": []
  }
 ],
 "metadata": {
  "kernelspec": {
   "display_name": "Python 3 (ipykernel)",
   "language": "python",
   "name": "python3"
  },
  "language_info": {
   "codemirror_mode": {
    "name": "ipython",
    "version": 3
   },
   "file_extension": ".py",
   "mimetype": "text/x-python",
   "name": "python",
   "nbconvert_exporter": "python",
   "pygments_lexer": "ipython3",
   "version": "3.11.5"
  }
 },
 "nbformat": 4,
 "nbformat_minor": 5
}
